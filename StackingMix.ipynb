{
 "cells": [
  {
   "cell_type": "markdown",
   "id": "bbd034ac",
   "metadata": {},
   "source": [
    "## Stacking vs Mixtura de Modelos"
   ]
  },
  {
   "cell_type": "markdown",
   "id": "24d00af0",
   "metadata": {},
   "source": [
    "Se toman los datos de kaggle siguientes: https://www.kaggle.com/datasets/thedevastator/analyzing-credit-card-spending-habits-in-india y se pretende realizar una comparativa sencilla entre las ventajas y desventajas de hacer uso de un Stacking frente a una Mixtura de modelos"
   ]
  },
  {
   "cell_type": "code",
   "execution_count": 1,
   "id": "f0b8d357",
   "metadata": {},
   "outputs": [],
   "source": [
    "import pandas as pd\n",
    "import numpy as np\n",
    "import matplotlib.pyplot as plt\n",
    "import seaborn as sns\n",
    "\n",
    "import warnings\n",
    "warnings.filterwarnings('ignore')\n",
    "\n",
    "from sklearn.model_selection import train_test_split\n",
    "from sklearn.linear_model import LogisticRegression\n",
    "from sklearn.metrics import  roc_auc_score"
   ]
  },
  {
   "cell_type": "markdown",
   "id": "e56e15fc",
   "metadata": {},
   "source": [
    "Paso 1: Se traen y se miran brevemente los datos a utilizar, al no haber muchos en este ejemplo, se hace uso de pandas directamente:"
   ]
  },
  {
   "cell_type": "code",
   "execution_count": 2,
   "id": "396949e3",
   "metadata": {},
   "outputs": [],
   "source": [
    "df = pd.read_csv('data/IndianCreditCard.csv')"
   ]
  },
  {
   "cell_type": "code",
   "execution_count": 3,
   "id": "d1685e68",
   "metadata": {},
   "outputs": [
    {
     "data": {
      "text/html": [
       "<div>\n",
       "<style scoped>\n",
       "    .dataframe tbody tr th:only-of-type {\n",
       "        vertical-align: middle;\n",
       "    }\n",
       "\n",
       "    .dataframe tbody tr th {\n",
       "        vertical-align: top;\n",
       "    }\n",
       "\n",
       "    .dataframe thead th {\n",
       "        text-align: right;\n",
       "    }\n",
       "</style>\n",
       "<table border=\"1\" class=\"dataframe\">\n",
       "  <thead>\n",
       "    <tr style=\"text-align: right;\">\n",
       "      <th></th>\n",
       "      <th>index</th>\n",
       "      <th>City</th>\n",
       "      <th>Date</th>\n",
       "      <th>Card Type</th>\n",
       "      <th>Exp Type</th>\n",
       "      <th>Gender</th>\n",
       "      <th>Amount</th>\n",
       "    </tr>\n",
       "  </thead>\n",
       "  <tbody>\n",
       "    <tr>\n",
       "      <th>0</th>\n",
       "      <td>0</td>\n",
       "      <td>Delhi, India</td>\n",
       "      <td>29-Oct-14</td>\n",
       "      <td>Gold</td>\n",
       "      <td>Bills</td>\n",
       "      <td>F</td>\n",
       "      <td>82475</td>\n",
       "    </tr>\n",
       "    <tr>\n",
       "      <th>1</th>\n",
       "      <td>1</td>\n",
       "      <td>Greater Mumbai, India</td>\n",
       "      <td>22-Aug-14</td>\n",
       "      <td>Platinum</td>\n",
       "      <td>Bills</td>\n",
       "      <td>F</td>\n",
       "      <td>32555</td>\n",
       "    </tr>\n",
       "    <tr>\n",
       "      <th>2</th>\n",
       "      <td>2</td>\n",
       "      <td>Bengaluru, India</td>\n",
       "      <td>27-Aug-14</td>\n",
       "      <td>Silver</td>\n",
       "      <td>Bills</td>\n",
       "      <td>F</td>\n",
       "      <td>101738</td>\n",
       "    </tr>\n",
       "    <tr>\n",
       "      <th>3</th>\n",
       "      <td>3</td>\n",
       "      <td>Greater Mumbai, India</td>\n",
       "      <td>12-Apr-14</td>\n",
       "      <td>Signature</td>\n",
       "      <td>Bills</td>\n",
       "      <td>F</td>\n",
       "      <td>123424</td>\n",
       "    </tr>\n",
       "    <tr>\n",
       "      <th>4</th>\n",
       "      <td>4</td>\n",
       "      <td>Bengaluru, India</td>\n",
       "      <td>5-May-15</td>\n",
       "      <td>Gold</td>\n",
       "      <td>Bills</td>\n",
       "      <td>F</td>\n",
       "      <td>171574</td>\n",
       "    </tr>\n",
       "  </tbody>\n",
       "</table>\n",
       "</div>"
      ],
      "text/plain": [
       "   index                   City       Date  Card Type Exp Type Gender  Amount\n",
       "0      0           Delhi, India  29-Oct-14       Gold    Bills      F   82475\n",
       "1      1  Greater Mumbai, India  22-Aug-14   Platinum    Bills      F   32555\n",
       "2      2       Bengaluru, India  27-Aug-14     Silver    Bills      F  101738\n",
       "3      3  Greater Mumbai, India  12-Apr-14  Signature    Bills      F  123424\n",
       "4      4       Bengaluru, India   5-May-15       Gold    Bills      F  171574"
      ]
     },
     "execution_count": 3,
     "metadata": {},
     "output_type": "execute_result"
    }
   ],
   "source": [
    "df.head()"
   ]
  },
  {
   "cell_type": "code",
   "execution_count": 4,
   "id": "bcf2afb5",
   "metadata": {},
   "outputs": [
    {
     "data": {
      "text/plain": [
       "(26052, 7)"
      ]
     },
     "execution_count": 4,
     "metadata": {},
     "output_type": "execute_result"
    }
   ],
   "source": [
    "df.shape"
   ]
  },
  {
   "cell_type": "markdown",
   "id": "e4e53007",
   "metadata": {},
   "source": [
    "Paso 2: Se va a crear una \"target\" artificial a predecir que va a ser Amount anormalmente bajos, para ello se va a realizar un histograma de la variable Amount y se va a elegir, por inspección directa dicho valor. Hay modos más avanzados de hacerlo como tomar el primer cuartil o un percentil del 5% u otro. Se deja al interesado que pruebe estas otras modalidades y siga el razonamiento posterior.\n",
    "\n",
    "En este caso se observa que una cantidad adecuada sería menos de 5.000"
   ]
  },
  {
   "cell_type": "code",
   "execution_count": 5,
   "id": "8305c761",
   "metadata": {},
   "outputs": [
    {
     "data": {
      "text/plain": [
       "<AxesSubplot:xlabel='Amount', ylabel='Density'>"
      ]
     },
     "execution_count": 5,
     "metadata": {},
     "output_type": "execute_result"
    },
    {
     "data": {
      "image/png": "[encoded data removed]",
      "text/plain": [
       "<Figure size 432x288 with 1 Axes>"
      ]
     },
     "metadata": {
      "needs_background": "light"
     },
     "output_type": "display_data"
    }
   ],
   "source": [
    "sns.distplot(df['Amount'], bins=10)"
   ]
  },
  {
   "cell_type": "code",
   "execution_count": 6,
   "id": "de6902d5",
   "metadata": {},
   "outputs": [],
   "source": [
    "df['target'] = np.where(df['Amount'] <= 5000, 1, 0)"
   ]
  },
  {
   "cell_type": "code",
   "execution_count": 7,
   "id": "5ade2cfd",
   "metadata": {},
   "outputs": [
    {
     "data": {
      "text/plain": [
       "0.014125594963918317"
      ]
     },
     "execution_count": 7,
     "metadata": {},
     "output_type": "execute_result"
    }
   ],
   "source": [
    "np.mean(df['target'])"
   ]
  },
  {
   "cell_type": "code",
   "execution_count": 8,
   "id": "10582e7a",
   "metadata": {},
   "outputs": [
    {
     "data": {
      "text/plain": [
       "368"
      ]
     },
     "execution_count": 8,
     "metadata": {},
     "output_type": "execute_result"
    }
   ],
   "source": [
    "np.sum(df['target'])"
   ]
  },
  {
   "cell_type": "markdown",
   "id": "27ce01e9",
   "metadata": {},
   "source": [
    "Algo más un 1.4% de los datos cumplen con esa propiedad"
   ]
  },
  {
   "cell_type": "markdown",
   "id": "aebf9321",
   "metadata": {},
   "source": [
    "Paso 3: Feature Engineering, se convierten variables texto a numéricas. Necesario para poder construir los modelos, python necesita variables numéricas"
   ]
  },
  {
   "cell_type": "code",
   "execution_count": 9,
   "id": "cf4adc7f",
   "metadata": {
    "scrolled": true
   },
   "outputs": [
    {
     "data": {
      "text/plain": [
       "array(['Delhi, India', 'Greater Mumbai, India', 'Bengaluru, India',\n",
       "       'Ahmedabad, India', 'Markapur, India', 'Mavoor, India',\n",
       "       'Sillod, India', 'Nainital, India', 'Laharpur, India',\n",
       "       'Shenkottai, India', 'Neyveli (TS), India', 'Kapadvanj, India',\n",
       "       'Arambagh, India', 'Thana Bhawan, India', 'Kancheepuram, India',\n",
       "       'Sojat, India', 'Karjat, India', 'Mohali, India',\n",
       "       'Narayanpet, India', 'Bhavnagar, India', 'Viluppuram, India',\n",
       "       'Jamalpur, India', 'Udaipurwati, India', 'Palanpur, India',\n",
       "       'Muzaffarpur, India', 'Taranagar, India', 'Ambikapur, India',\n",
       "       'Mundi, India', 'Padrauna, India', 'Vijayapura, India',\n",
       "       'Vrindavan, India', 'Byasanagar, India', 'Mudhol, India',\n",
       "       'Sohna, India', 'Pune, India', 'Lakheri, India',\n",
       "       'Jehanabad, India', 'Shegaon, India',\n",
       "       'Shikarpur Bulandshahr, India', 'Dalli-Rajhara, India',\n",
       "       'Mapusa, India', 'Uthamapalayam, India', 'Nasirabad, India',\n",
       "       'Kapurthala, India', 'Anand, India', 'Arwal, India',\n",
       "       'Nanded-Waghala, India', 'Nilambur, India', 'Anjar, India',\n",
       "       'Hubli-Dharwad, India', 'Jind, India', 'Koratla, India',\n",
       "       'Chalakudy, India', 'Lahar, India', 'Ramanathapuram, India',\n",
       "       'Brahmapur, India', 'Rahuri, India', 'Hindupur, India',\n",
       "       'Ponnani, India', 'Rajpipla, India', 'Pattukkottai, India',\n",
       "       'Tenali, India', 'Aizawl, India', 'Raayachuru, India',\n",
       "       'Tura, India', 'Srivilliputhur, India', 'Siana, India',\n",
       "       'Nepanagar, India', 'Nagaon, India', 'Oddanchatram, India',\n",
       "       'Zira, India', 'Dhuri, India', 'Kalyan-Dombivali, India',\n",
       "       'Mahuva, India', 'Punch, India', 'Rajampet, India',\n",
       "       'Mandvi, India', 'Nahan, India', 'Shahdol, India', 'Kochi, India',\n",
       "       'Neemuch, India', 'Shahabad, India', 'Mancherial, India',\n",
       "       'Sirhind Fatehgarh Sahib, India', 'Surat, India', 'Zaidpur, India',\n",
       "       'Malout, India', 'Pipar City, India', 'Khambhat, India',\n",
       "       'Rabkavi Banhatti, India', 'Balaghat, India',\n",
       "       'Raghunathganj, India', 'Ramdurg, India', 'Imphal, India',\n",
       "       'Raigarh, India', 'Rajapalayam, India', 'Mattannur, India',\n",
       "       'Narwana, India', 'Akot, India', 'Udaipur, India',\n",
       "       'Murwara (Katni), India', 'Cuttack, India', 'Warora, India',\n",
       "       'Tiruchendur, India', 'Kasaragod, India', 'Vyara, India',\n",
       "       'Periyasemur, India', 'Nandivaram-Guduvancheri, India',\n",
       "       'Madhubani, India', 'Yellandu, India', 'Umbergaon, India',\n",
       "       'Nimbahera, India', 'Seoni, India', 'Ambejogai, India',\n",
       "       'Mokokchung, India', 'Shahade, India', 'Pithoragarh, India',\n",
       "       'Maner, India', 'Firozabad, India', 'Kollam, India',\n",
       "       'Jalandhar, India', 'Barpeta, India', 'Raurkela, India',\n",
       "       'Limbdi, India', 'Mokameh, India', 'Taki, India', 'Kaithal, India',\n",
       "       'Medinipur, India', 'Erode, India', 'Mahemdabad, India',\n",
       "       'Sawai Madhopur, India', 'Malpura, India', 'Samastipur, India',\n",
       "       'Jagdalpur, India', 'Achalpur, India', 'Ahmednagar, India',\n",
       "       'Shikohabad, India', 'Mungeli, India', 'Udhampur, India',\n",
       "       'Thiruvananthapuram, India', 'Padra, India', 'Losal, India',\n",
       "       'Singrauli, India', 'Naugawan Sadat, India', 'Dimapur, India',\n",
       "       'Sindhagi, India', 'Palakkad, India', 'Peddapuram, India',\n",
       "       'Rewa, India', 'Barnala, India', 'Sironj, India',\n",
       "       'Fatehabad, India', 'Pachora, India', 'Vikramasingapuram, India',\n",
       "       'Mangaluru, India', 'Palwal, India', 'Nabarangapur, India',\n",
       "       'Ballari, India', 'Vedaranyam, India', 'Sagar, India',\n",
       "       'Sherkot, India', 'Navi Mumbai, India', 'Manjlegaon, India',\n",
       "       'Thakurdwara, India', 'Jagraon, India', 'Shikaripur, India',\n",
       "       'Bodhan, India', 'Bhadrak, India', 'Nathdwara, India',\n",
       "       'Ongole, India', 'Panna, India', 'Sardarshahar, India',\n",
       "       'Kendujhar, India', 'Nehtaur, India', 'Pratapgarh, India',\n",
       "       'Tohana, India', 'Jangaon, India', 'Sitapur, India',\n",
       "       'Diphu, India', 'Pavagada, India', 'Umred, India', 'Kadi, India',\n",
       "       'Mandapeta, India', 'Sunabeda, India', 'Sira, India',\n",
       "       'Chirmiri, India', 'Palacole, India', 'Siddipet, India',\n",
       "       'Aligarh, India', 'Bellampalle, India', 'Udhagamandalam, India',\n",
       "       'Petlad, India', 'Indore, India', 'Kozhikode, India',\n",
       "       'Baripada Town, India', 'Pilkhuwa, India', 'Hapur, India',\n",
       "       'Nawabganj, India', 'Sadabad, India', 'Arrah, India',\n",
       "       'Faridabad, India', 'Jammalamadugu, India', 'Pulgaon, India',\n",
       "       'Malavalli, India', 'Naidupet, India', 'Pathri, India',\n",
       "       'Jalandhar Cantt., India', 'Kharar, India', 'Jamnagar, India',\n",
       "       'Yavatmal, India', 'Itarsi, India', 'Sirohi, India',\n",
       "       'Ponnur, India', 'Upleta, India', 'Afzalpur, India',\n",
       "       'Amroha, India', 'Bathinda, India', 'Gwalior, India',\n",
       "       'Tilhar, India', 'Bharatpur, India', 'Hajipur, India',\n",
       "       'Korba, India', 'Vijayawada, India', 'Madhupur, India',\n",
       "       'Pilani, India', 'Thrissur, India', 'Visakhapatnam, India',\n",
       "       'Taliparamba, India', 'Mehkar, India', 'Repalle, India',\n",
       "       'Nandyal, India', 'Sadasivpet, India', 'Belagavi, India',\n",
       "       'Ramngarh, India', 'Nanjikottai, India', 'Porbandar, India',\n",
       "       'Mahasamund, India', 'Khair, India', 'Rudrapur, India',\n",
       "       'Roorkee, India', 'Makhdumpur, India', 'Venkatagiri, India',\n",
       "       'Chikkamagaluru, India', 'Jodhpur, India', 'Rishikesh, India',\n",
       "       'Kottayam, India', 'Nagina, India', 'Dehri-on-Sone, India',\n",
       "       'Morshi, India', 'Vadakkuvalliyur, India', 'Baleshwar Town, India',\n",
       "       'Sahibganj, India', 'Sasaram, India', 'Sidlaghatta, India',\n",
       "       'Tenkasi, India', 'Sonipat, India', 'Talikota, India',\n",
       "       'Samana, India', 'Anantnag, India', 'Silchar, India',\n",
       "       'Gurgaon, India', 'Palghar, India', 'Kendrapara, India',\n",
       "       'Mahesana, India', 'Shajapur, India', 'Panruti, India',\n",
       "       'Najibabad, India', 'Chatra, India', 'Buxar, India',\n",
       "       'Jhansi, India', 'Terdal, India', 'Loni, India', 'Tadpatri, India',\n",
       "       'Mangrol, India', 'Shrirampur, India', 'Ladwa, India',\n",
       "       'Mangrulpir, India', 'Nuzvid, India', 'Sihor, India',\n",
       "       'Jagtial, India', 'Sadulpur, India', 'Sheikhpura, India',\n",
       "       'Perumbavoor, India', 'Dharmavaram, India', 'Tiptur, India',\n",
       "       'Bikaner, India', 'Sibsagar, India', 'Bhagalpur, India',\n",
       "       'Deesa, India', 'Tumkur, India', 'Maddur, India', 'Pasan, India',\n",
       "       'Raipur, India', 'Hoshiarpur, India', 'Navsari, India',\n",
       "       'Bhubaneswar, India', 'Sankari, India', 'Bokaro Steel City, India',\n",
       "       'Sivaganga, India', 'Bharuch, India', 'Sundargarh, India',\n",
       "       'Raver, India', 'Kurnool, India', 'Barbil, India',\n",
       "       'Chilakaluripet, India', 'Sanand, India', 'Sailu, India',\n",
       "       'Puliyankudi, India', 'Pandhurna, India', 'Periyakulam, India',\n",
       "       'Muddebihal, India', 'Washim, India', 'Shrigonda, India',\n",
       "       'Sangli, India', 'Vasai-Virar, India', 'Jorhat, India',\n",
       "       'Dehradun, India', 'Kayamkulam, India', 'Lalsot, India',\n",
       "       'Gokak, India', 'Panipat, India', 'Hazaribag, India',\n",
       "       'Paschim Punropara, India', 'Renukoot, India',\n",
       "       'Usilampatti, India', 'Sidhi, India', 'Rohtak, India',\n",
       "       'Phagwara, India', 'Mahalingapura, India', 'Saunda, India',\n",
       "       'Ratnagiri, India', 'Chennai, India', 'Farooqnagar, India',\n",
       "       'Kodungallur, India', 'Paravoor, India', 'Uchgaon, India',\n",
       "       'Guntur, India', 'Nizamabad, India', 'Parli, India',\n",
       "       'Bhilwara, India', 'Karimnagar, India', 'Shamsabad Agra, India',\n",
       "       'Rajula, India', 'Bankura, India', 'Khanna, India',\n",
       "       'Manglaur, India', 'Rae Bareli, India', 'Madikeri, India',\n",
       "       'Udgir, India', 'Ottappalam, India', 'Shahbad, India',\n",
       "       'Nowgong, India', 'Robertsganj, India', 'Kalpi, India',\n",
       "       'Risod, India', 'Mainaguri, India', 'Sidhpur, India',\n",
       "       'Shirur, India', 'Kolar, India', 'Manmad, India', 'Deoghar, India',\n",
       "       'Nadbai, India', 'Cherthala, India', 'Dharmanagar, India',\n",
       "       'Sangrur, India', 'Viramgam, India', 'Manavadar, India',\n",
       "       'Narnaul, India', 'Lal Gopalganj Nindaura, India',\n",
       "       'Palwancha, India', 'Perambalur, India', 'Rayagada, India',\n",
       "       'Jatani, India', 'Koyilandy, India', 'Manwath, India',\n",
       "       'Nidadavole, India', 'Aurangabad, India', 'Rajakhera, India',\n",
       "       'Rajahmundry, India', 'Phusro, India', 'Noida, India',\n",
       "       'Nedumangad, India', 'Tharad, India', 'Sendhwa, India',\n",
       "       'Ranaghat, India', 'Batala, India', 'Machilipatnam, India',\n",
       "       'Suar, India', 'Mudalagi, India', 'Mahnar Bazar, India',\n",
       "       'Pusad, India', 'Patiala, India', 'Madurai, India',\n",
       "       'Kot Kapura, India', 'Visnagar, India', 'Pehowa, India',\n",
       "       'Nagaur, India', 'Nagapattinam, India', 'Bheemunipatnam, India',\n",
       "       'Tarn Taran, India', 'Sattur, India', 'Nashik, India',\n",
       "       'Anjangaon, India', 'Sattenapalle, India', 'Sainthia, India',\n",
       "       'Hisar, India', 'Shujalpur, India', 'North Lakhimpur, India',\n",
       "       'Hansi, India', 'Chittur-Thathamangalam, India', 'Karur, India',\n",
       "       'Pipariya, India', 'Sikandra Rao, India', 'Talaja, India',\n",
       "       'Srinagar, India', 'Sanduru, India', 'Chandausi, India',\n",
       "       'Palasa Kasibugga, India', 'Kamareddy, India', 'Jamui, India',\n",
       "       'Madanapalle, India', 'Rayachoti, India', 'Sankarankoil, India',\n",
       "       'Murtijapur, India', 'Wai, India', 'Savarkundla, India',\n",
       "       'Agra, India', 'Alappuzha, India', 'Nadiad, India',\n",
       "       'Pattamundai, India', 'Zirakpur, India', 'Thiruvarur, India',\n",
       "       'Rawatbhata, India', 'Wankaner, India', 'New Delhi, India',\n",
       "       'Pandharpur, India', 'Memari, India', 'Ramachandrapuram, India',\n",
       "       'Ratangarh, India', 'Thanesar, India', 'Lunglei, India',\n",
       "       'Mansa, India', 'Puranpur, India', 'Nabadwip, India',\n",
       "       'English Bazar, India', 'Yawal, India', 'Puttur, India',\n",
       "       'Adityapur, India', 'Thiruvallur, India', 'Kannur, India',\n",
       "       'Pithampur, India', 'Tharamangalam, India', 'Adoni, India',\n",
       "       'Gooty, India', 'Dumka, India', 'Tasgaon, India',\n",
       "       'Marmagao, India', 'Shahpur, India', 'Lucknow, India',\n",
       "       'Arakkonam, India', 'Palladam, India', 'Ajmer, India',\n",
       "       'Amravati, India', 'Ujjain, India', 'Sindhnur, India',\n",
       "       'Vikarabad, India', 'Gurdaspur, India', 'Satana, India',\n",
       "       'Tiruvannamalai, India', 'Lakhimpur, India', 'Tilda Newra, India',\n",
       "       'Naila Janjgir, India', 'Darbhanga, India', 'Lanka, India',\n",
       "       'Hyderabad, India', 'Sonepur, India', 'Rasipuram, India',\n",
       "       'Wardha, India', 'Moga, India', 'Perinthalmanna, India',\n",
       "       'Amalner, India', 'Jabalpur, India', 'Dibrugarh, India',\n",
       "       'Tumsar, India', 'Vadodara, India', 'Karnal, India',\n",
       "       'Amreli, India', 'Wadgaon Road, India', 'Talegaon Dabhade, India',\n",
       "       'Rawatsar, India', 'Tanuku, India', 'Bhadrachalam, India',\n",
       "       'Vadipatti, India', 'Yerraguntla, India', 'Robertson Pet, India',\n",
       "       'Neyyattinkara, India', 'Charkhi Dadri, India', 'Dhanbad, India',\n",
       "       'Musabani, India', 'Mhow Cantonment, India', 'Talcher, India',\n",
       "       'Nangal, India', 'Keshod, India', 'Tuensang, India',\n",
       "       'Naharlagun, India', 'Bhongir, India', 'Sambhal, India',\n",
       "       'Sehore, India', 'Patti, India', 'Malappuram, India',\n",
       "       'Porsa, India', 'Sasvad, India', 'Chirala, India', 'Tanda, India',\n",
       "       'Patan, India', 'Nagpur, India', 'Rajagangapur, India',\n",
       "       'Nawanshahr, India', 'Wadi, India', 'Mandideep, India',\n",
       "       'Sholingur, India', 'Gudivada, India', 'Bhatapara, India',\n",
       "       'Ichalkaranji, India', 'Revelganj, India', 'Yanam, India',\n",
       "       'Akola, India', 'Ramnagar, India', 'Alirajpur, India',\n",
       "       'Gohana, India', 'Lakhisarai, India', 'Sikandrabad, India',\n",
       "       'Maihar, India', 'Dhenkanal, India', 'Vandavasi, India',\n",
       "       'Sugauli, India', 'Firozpur, India', 'Umreth, India',\n",
       "       'Gobindgarh, India', 'Jamshedpur, India', 'Sircilla, India',\n",
       "       'Yemmiganur, India', 'Karimganj, India', 'Sitamarhi, India',\n",
       "       'Chirkunda, India', 'Pollachi, India', 'Mussoorie, India',\n",
       "       'Saharsa, India', 'Yevla, India', 'Mandla, India',\n",
       "       'Pappinisseri, India', 'Noorpur, India', 'Rajsamand, India',\n",
       "       'Paramakudi, India', 'Pihani, India', 'Sivakasi, India',\n",
       "       'Manuguru, India', 'Shivpuri, India', 'Sarangpur, India',\n",
       "       'Ranavav, India', 'Medininagar (Daltonganj), India',\n",
       "       'Arsikere, India', 'Jhargram, India', 'Ujhani, India',\n",
       "       'Rajgarh (Churu), India', 'Neem-Ka-Thana, India',\n",
       "       'Narsinghgarh, India', 'Phalodi, India', 'Nagarkurnool, India',\n",
       "       'Bhainsa, India', 'Nagari, India', 'Jammu, India',\n",
       "       'Pudukkottai, India', 'Amalapuram, India', 'Sangole, India',\n",
       "       'Mandi, India', 'Yadgir, India', 'Panvel, India',\n",
       "       'Lingsugur, India', 'Goalpara, India', 'Kolkata, India',\n",
       "       'Kalimpong, India', 'Vijainagar Ajmer, India', 'Tonk, India',\n",
       "       'Sambalpur, India', 'Malegaon, India', 'Merta City, India',\n",
       "       'Adilabad, India', 'Tiruchirappalli, India', 'Bettiah, India',\n",
       "       'Titlagarh, India', 'Mathura, India', 'Gumia, India',\n",
       "       'Muvattupuzha, India', 'Vellakoil, India', 'Modasa, India',\n",
       "       'Phaltan, India', 'Rath, India', 'Giridih, India',\n",
       "       'Nanpara, India', 'Rajkot, India', 'Karwar, India',\n",
       "       'Tikamgarh, India', 'Tirukkoyilur, India',\n",
       "       'Firozpur Cantt., India', 'Baramula, India', 'Kohima, India',\n",
       "       'Agartala, India', 'Salem, India', 'Nilanga, India',\n",
       "       'Tekkalakote, India', 'Umarkhed, India', 'Utraula, India',\n",
       "       'Modinagar, India', 'Bhilai Nagar, India', 'Manvi, India',\n",
       "       'Sankeshwara, India', 'Balangir, India', 'Suratgarh, India',\n",
       "       'Peringathur, India', 'Pathankot, India', 'Ozar, India',\n",
       "       'Narsipatnam, India', 'Rajnandgaon, India', 'Begusarai, India',\n",
       "       'Bilaspur, India', 'Gobichettipalayam, India', 'Etawah, India',\n",
       "       'Supaul, India', 'Araria, India', 'Nabha, India',\n",
       "       'Santipur, India', 'Thoubal, India', 'Satara, India',\n",
       "       'Lakshmeshwar, India', 'Haldwani-cum-Kathgodam, India',\n",
       "       'Ramgarh, India', 'Nellore, India', 'Nagda, India',\n",
       "       'Tuljapur, India', 'Varanasi, India', 'Shimla, India',\n",
       "       'Sumerpur, India', 'Saundatti-Yellamma, India', 'Bhabua, India',\n",
       "       'Mulbagal, India', 'Sopore, India', 'Tiruvethipuram, India',\n",
       "       'Palia Kalan, India', 'Sangaria, India', 'Alipurduar, India',\n",
       "       'Shoranur, India', 'Siwan, India', 'Gopalganj, India',\n",
       "       'Lachhmangarh, India', 'Pilibhit, India', 'Vidisha, India',\n",
       "       'Margao, India', 'Manendragarh, India', 'Sangamner, India',\n",
       "       'Gangarampur, India', 'Vaijapur, India', 'Nokha, India',\n",
       "       'Raisen, India', 'Thirumangalam, India', 'Surandai, India',\n",
       "       'Raghogarh-Vijaypur, India', 'Dhoraji, India', 'Gadwal, India',\n",
       "       'Ladnu, India', 'Purnia, India', 'Madhugiri, India',\n",
       "       'Sheopur, India', 'Makrana, India', 'Kunnamkulam, India',\n",
       "       'Rampur, India', 'Purulia, India', 'Athni, India', 'Gudur, India',\n",
       "       'Rasra, India', 'Vaniyambadi, India', 'Wokha, India',\n",
       "       'Valparai, India', 'Valsad, India', 'Hardoi , India',\n",
       "       'Karaikal, India', 'Morena, India', 'Kovvur, India',\n",
       "       'Bahadurgarh, India', 'Baharampur, India', 'Suri, India',\n",
       "       'Nakodar, India', 'Sedam, India', 'Thiruvalla, India',\n",
       "       'Pathanamthitta, India', 'Sirsi, India', 'Soro, India',\n",
       "       'Zamania, India', 'Rajgir, India', 'Masaurhi, India',\n",
       "       'Darjiling, India', 'Ganjbasoda, India', 'Bhimavaram, India',\n",
       "       'Tinsukia, India', 'Panchkula, India', 'Kakinada, India',\n",
       "       'Adoor, India', 'Gaya, India', 'Vita, India',\n",
       "       'Ramganj Mandi, India', 'Tiruchengode, India',\n",
       "       'Sri Madhopur, India', 'Veraval, India', 'Tuni, India',\n",
       "       'Tindivanam, India', 'Latur, India', 'Madhepura, India',\n",
       "       'Malerkotla, India', 'Dumraon, India', 'Tiruppur, India',\n",
       "       'Tundla, India', 'Vinukonda, India', 'Tandur, India',\n",
       "       'Thanjavur, India', 'Partur, India', 'Shahjahanpur, India',\n",
       "       'Sihora, India', 'Shivamogga, India', 'Raiganj, India',\n",
       "       'Mihijam, India', 'Ramanagaram, India', 'Faridkot, India',\n",
       "       'Anakapalle, India', 'Punalur, India', 'Nellikuppam, India',\n",
       "       'Nirmal, India', 'Forbesganj, India', 'Purna, India',\n",
       "       'Habra, India', 'Bapatla, India', 'Patratu, India', 'Salur, India',\n",
       "       'Nanjangud, India', 'Chittoor, India', 'Virudhunagar, India',\n",
       "       'Sardhana, India', 'Ratlam, India', 'Port Blair, India',\n",
       "       'Nalbari, India', 'Surapura, India', 'Morvi, India',\n",
       "       'Sabalgarh, India', 'Shirdi, India', 'Mavelikkara, India',\n",
       "       'Rampurhat, India', 'Mahe, India', 'Talode, India',\n",
       "       'Tiruttani, India', 'Tamluk, India', 'Murshidabad, India',\n",
       "       'Mandamarri, India', 'Parlakhemundi, India', 'Thane, India',\n",
       "       'Bongaigaon City, India', 'Yamunanagar, India', 'Rewari, India',\n",
       "       'Sikar, India', 'Ranchi, India', 'Sonamukhi, India',\n",
       "       'Zunheboto, India', 'Mysore, India', 'Hardwar, India',\n",
       "       'Siruguppa, India', 'Varkala, India', 'Sinnar, India',\n",
       "       'Pinjore, India', 'Nautanwa, India', 'Motihari, India',\n",
       "       'Arvi, India', 'Vadalur, India', 'Sagara, India', 'Palani, India',\n",
       "       'Meerut, India', 'Vizianagaram, India', 'Guntakal, India',\n",
       "       'Sahaswan, India', 'Sagwara, India', 'Simdega, India',\n",
       "       'Tirunelveli, India', 'Osmanabad, India', 'Parvathipuram, India',\n",
       "       'Raisinghnagar, India', 'Radhanpur, India', 'Sunam, India',\n",
       "       'Dhubri, India', 'Hugli-Chinsurah, India', 'Sultanpur, India',\n",
       "       'Nawada, India', 'Bhuj, India', 'Ankleshwar, India',\n",
       "       'Balurghat, India', 'Guwahati, India', 'Lunawada, India',\n",
       "       'Namakkal, India', 'Attingal, India', 'Davanagere, India',\n",
       "       'Vatakara, India', 'Kanhangad, India', 'Sathyamangalam, India',\n",
       "       'Mandsaur, India', 'Udupi, India', 'Chandigarh, India',\n",
       "       'Bargarh, India', 'Shahabad Rampur, India', 'Chaibasa, India',\n",
       "       'Ashok Nagar, India', 'Ludhiana, India', 'Thuraiyur, India',\n",
       "       'Soron, India', 'Saharanpur, India', 'Sangareddy, India',\n",
       "       'Shamli, India', 'Salaya, India', 'Shillong, India',\n",
       "       'Alwar, India', 'Tadepalligudem, India', 'Tiruvuru, India',\n",
       "       'Mankachar, India', 'Eluru, India', 'Thangadh, India',\n",
       "       'Malkapur, India', 'Ranibennur, India', 'Proddatur, India',\n",
       "       'Jharsuguda, India', 'Pakaur, India', 'Parbhani, India',\n",
       "       'Vapi, India', 'Tezpur, India', 'Pernampattu, India',\n",
       "       'Bahraich, India', 'Virudhachalam, India', 'Aruppukkottai, India',\n",
       "       'Tirukalukundram, India', 'Orai, India', 'Amritsar, India',\n",
       "       'Nagercoil, India', 'Vadnagar, India', 'Shahpura, India',\n",
       "       'Muktsar, India', 'Kavali, India', 'Ranipet, India',\n",
       "       'Nargund, India', 'Tirupathur, India', 'Pedana, India',\n",
       "       'Wadhwan, India', 'Narasaraopet, India', 'Srikakulam, India',\n",
       "       'Nawapur, India', 'Unnao, India', 'Pilibanga, India',\n",
       "       'Satna, India', 'Kagaznagar, India', 'Raxaul Bazar, India',\n",
       "       'Pithapuram, India', 'Naihati, India', 'Rajpura, India',\n",
       "       'Mandya, India', 'Malaj Khand, India', 'Panaji, India',\n",
       "       'Shahabad Hardoi, India', 'Pandharkaoda, India', 'Azamgarh, India',\n",
       "       'Phulabani, India', 'Nandurbar, India', 'Sirkali, India',\n",
       "       'Dhule, India', 'Seohara, India', 'Sandila, India',\n",
       "       'Fatehpur Sikri, India', 'Rayadurg, India', 'Lonavla, India',\n",
       "       'Bhopal, India', 'Tarikere, India', 'Seoni-Malwa, India',\n",
       "       'Nelamangala, India', 'Kandukur, India', 'Suryapet, India',\n",
       "       'Sanawad, India', 'Palitana, India', 'Moradabad, India',\n",
       "       'Safidon, India', 'Pen, India', 'Theni Allinagaram, India',\n",
       "       'Pandua, India', 'Uravakonda, India', 'Allahabad, India',\n",
       "       'Rupnagar, India', 'Udumalaipettai, India', 'Ramagundam, India',\n",
       "       'Lalitpur, India', 'Kharagpur, India', 'Medak, India',\n",
       "       'Bobbili, India', 'Katihar, India', 'Kadapa, India',\n",
       "       'Munger, India', 'Sirsa, India', 'Kashipur, India',\n",
       "       'Savner, India', 'Uran, India', 'Narasapuram, India',\n",
       "       'Warisaliganj, India', 'Rosera, India', 'Solapur, India',\n",
       "       'Miryalaguda, India', 'Macherla, India', 'Malur, India',\n",
       "       'Lumding, India', 'Kyathampalle, India', 'Puri, India',\n",
       "       'Shirpur-Warwade, India', 'Pali, India', 'Kishanganj, India',\n",
       "       'Anantapur, India', 'Kathua, India', 'Bhiwandi, India',\n",
       "       'Punganur, India', 'Lar, India', 'Jaggaiahpet, India',\n",
       "       'Jhumri Tilaiya, India', 'Unjha, India', 'Sirsaganj, India',\n",
       "       'Durg, India', 'Naugachhia, India', 'Sujangarh, India',\n",
       "       'Jalpaiguri, India', 'Siliguri, India', 'Wani, India',\n",
       "       'Bhiwani, India', 'Warangal, India', 'Paithan, India',\n",
       "       'Rudauli, India', 'Pondicherry, India', 'Kadiri, India',\n",
       "       'Samalkot, India', 'Asansol, India', 'Thodupuzha, India',\n",
       "       'Ranebennuru, India', 'Bhawanipatna, India', 'Nongstoin, India',\n",
       "       'Narkatiaganj, India', 'Solan, India', 'Mahbubnagar, India',\n",
       "       'Godhra, India', 'Dhamtari, India', 'Tirupati, India',\n",
       "       'Khammam, India', 'Rampura Phul, India', 'Umarga, India',\n",
       "       'Tarakeswar, India', 'Sarni, India', 'Umaria, India',\n",
       "       'Sullurpeta, India', 'Nandura, India', 'Patna, India',\n",
       "       'Kanpur, India', 'Paradip, India', 'Rameshwaram, India',\n",
       "       'Nohar, India', 'Una, India', 'Sultanganj, India',\n",
       "       'Mandi Dabwali, India', 'Sherghati, India', 'Kothagudem, India',\n",
       "       'Uran Islampur, India', 'Mira-Bhayandar, India', 'Mahidpur, India',\n",
       "       'Savanur, India', 'Jaipur, India', 'Vellore, India',\n",
       "       'Bagaha, India', 'Changanassery, India', 'Tirur, India',\n",
       "       'Srikalahasti, India', 'Wanaparthy, India', 'Fazilka, India'],\n",
       "      dtype=object)"
      ]
     },
     "execution_count": 9,
     "metadata": {},
     "output_type": "execute_result"
    }
   ],
   "source": [
    "pd.unique(df['City']) #Esta variable no se trabajará ya que llevaría demasiado tiempo y es necesario agrupar teniendo\n",
    "                        #en cuenta conocimiento de la zona, por lo que sólo se considerará la capital 'Delhi, India', \n",
    "                        #frente al resto"
   ]
  },
  {
   "cell_type": "code",
   "execution_count": 10,
   "id": "9a6166c4",
   "metadata": {},
   "outputs": [],
   "source": [
    "df['Delhi'] = np.where(df['City'] == 'Delhi, India', 1, 0)"
   ]
  },
  {
   "cell_type": "code",
   "execution_count": 11,
   "id": "60d1fdb4",
   "metadata": {},
   "outputs": [],
   "source": [
    "df['Date'] = pd.to_datetime(df['Date'])\n",
    "df['Month'] = df['Date'].dt.month"
   ]
  },
  {
   "cell_type": "code",
   "execution_count": 12,
   "id": "d0370052",
   "metadata": {},
   "outputs": [
    {
     "data": {
      "text/plain": [
       "array(['Gold', 'Platinum', 'Silver', 'Signature'], dtype=object)"
      ]
     },
     "execution_count": 12,
     "metadata": {},
     "output_type": "execute_result"
    }
   ],
   "source": [
    "pd.unique(df['Card Type'])"
   ]
  },
  {
   "cell_type": "code",
   "execution_count": 13,
   "id": "b10761fd",
   "metadata": {},
   "outputs": [],
   "source": [
    "df['Gold'] = np.where(df['Card Type'] == 'Gold', 1, 0)\n",
    "df['Platinum'] = np.where(df['Card Type'] == 'Platinum', 1, 0)\n",
    "df['Silver'] = np.where(df['Card Type'] == 'Silver', 1, 0)"
   ]
  },
  {
   "cell_type": "code",
   "execution_count": 14,
   "id": "10ec7f06",
   "metadata": {},
   "outputs": [
    {
     "data": {
      "text/plain": [
       "array(['Bills', 'Food', 'Entertainment', 'Grocery', 'Fuel', 'Travel'],\n",
       "      dtype=object)"
      ]
     },
     "execution_count": 14,
     "metadata": {},
     "output_type": "execute_result"
    }
   ],
   "source": [
    "pd.unique(df['Exp Type'])"
   ]
  },
  {
   "cell_type": "code",
   "execution_count": 15,
   "id": "abd99d56",
   "metadata": {},
   "outputs": [],
   "source": [
    "df['Bills'] = np.where(df['Card Type'] == 'Bills', 1, 0)\n",
    "df['Food'] = np.where(df['Card Type'] == 'Food', 1, 0)\n",
    "df['Entertainment'] = np.where(df['Card Type'] == 'Entertainment', 1, 0)\n",
    "df['Grocery'] = np.where(df['Card Type'] == 'Grocery', 1, 0)\n",
    "df['Fuel'] = np.where(df['Card Type'] == 'Fuel', 1, 0)"
   ]
  },
  {
   "cell_type": "code",
   "execution_count": 16,
   "id": "47271ede",
   "metadata": {},
   "outputs": [
    {
     "data": {
      "text/plain": [
       "array(['F', 'M'], dtype=object)"
      ]
     },
     "execution_count": 16,
     "metadata": {},
     "output_type": "execute_result"
    }
   ],
   "source": [
    "pd.unique(df['Gender'])"
   ]
  },
  {
   "cell_type": "code",
   "execution_count": 17,
   "id": "2c984d7e",
   "metadata": {},
   "outputs": [],
   "source": [
    "df['Female'] = np.where(df['Gender'] == 'F', 1, 0)"
   ]
  },
  {
   "cell_type": "code",
   "execution_count": 18,
   "id": "df00dccf",
   "metadata": {},
   "outputs": [],
   "source": [
    "df_analytic = df[['Delhi', \n",
    "                  'Month',\n",
    "                  'Gold', 'Platinum', 'Silver', \n",
    "                  'Bills', 'Food', 'Entertainment', 'Grocery', 'Fuel', \n",
    "                  'Female', \n",
    "                  'target']]"
   ]
  },
  {
   "cell_type": "markdown",
   "id": "e1a57f16",
   "metadata": {},
   "source": [
    "Paso 4: Se separa los conjuntos en 2 mitades al 70% y 30% ponderando por la target, para las comprobaciones posteriores sobre una misma muestra de validación"
   ]
  },
  {
   "cell_type": "code",
   "execution_count": 19,
   "id": "6e37b788",
   "metadata": {},
   "outputs": [],
   "source": [
    "X = df_analytic.drop('target', axis=1)\n",
    "y = df_analytic['target']\n",
    "\n",
    "X_train, X_test, y_train, y_test = train_test_split(X, y, test_size=0.3, random_state=42)"
   ]
  },
  {
   "cell_type": "markdown",
   "id": "c4538d65",
   "metadata": {},
   "source": [
    "Paso 5_1: Se crea un modelo de regresión logística con la información del tipo de tarjeta sólamente. Se obtiene una predictividad muy baja, pero para lo que se quiere ilustrar puede valer"
   ]
  },
  {
   "cell_type": "code",
   "execution_count": 20,
   "id": "0659516f",
   "metadata": {},
   "outputs": [],
   "source": [
    "X_train1 = X_train[['Gold', 'Platinum', 'Silver', \n",
    "                    'Bills', 'Food', 'Entertainment', 'Grocery', 'Fuel']]\n",
    "X_test1 = X_test[['Gold', 'Platinum', 'Silver', \n",
    "                  'Bills', 'Food', 'Entertainment', 'Grocery', 'Fuel']]"
   ]
  },
  {
   "cell_type": "code",
   "execution_count": 21,
   "id": "9f88cf4c",
   "metadata": {},
   "outputs": [
    {
     "name": "stdout",
     "output_type": "stream",
     "text": [
      "AUC: 0.52\n"
     ]
    }
   ],
   "source": [
    "model1 = LogisticRegression()\n",
    "model1.fit(X_train1, y_train)\n",
    "\n",
    "y_prob1 = model1.predict_proba(X_test1)[:, 1]\n",
    "\n",
    "auc = roc_auc_score(y_test, y_prob1)\n",
    "print(\"AUC: {:.2f}\".format(auc))"
   ]
  },
  {
   "cell_type": "markdown",
   "id": "f1854471",
   "metadata": {},
   "source": [
    "Paso 5_2: Se crea un modelo de regresión logísta con el resto de la información no utilizada"
   ]
  },
  {
   "cell_type": "code",
   "execution_count": 22,
   "id": "c12b5301",
   "metadata": {},
   "outputs": [],
   "source": [
    "X_train2 = X_train[['Delhi',\n",
    "                    'Month',\n",
    "                    'Female']]\n",
    "X_test2 = X_test[['Delhi',\n",
    "                    'Month',\n",
    "                    'Female']]"
   ]
  },
  {
   "cell_type": "code",
   "execution_count": 23,
   "id": "a2ba749a",
   "metadata": {},
   "outputs": [
    {
     "name": "stdout",
     "output_type": "stream",
     "text": [
      "AUC: 0.52\n"
     ]
    }
   ],
   "source": [
    "model2 = LogisticRegression()\n",
    "model2.fit(X_train1, y_train)\n",
    "\n",
    "y_prob2 = model2.predict_proba(X_test1)[:, 1]\n",
    "\n",
    "auc = roc_auc_score(y_test, y_prob2)\n",
    "print(\"AUC: {:.2f}\".format(auc))"
   ]
  },
  {
   "cell_type": "markdown",
   "id": "87d21fce",
   "metadata": {},
   "source": [
    "Supongamos que como banco disponemos del Modelo 2 y un proveedor externo nos quiere vender las virtudes del modelo que ha creado (Modelo 1). Nosotros hemos aceptado comprar el modelo pero tenemos que integrarlo a nuestra información. En ningún caso el proveedor nos dirá ¿Cuáles son las variables que integra su modelo?, ya que podríamos usarlas nosotros mismos y prescindir de dicho proveedor."
   ]
  },
  {
   "cell_type": "markdown",
   "id": "7436c8b0",
   "metadata": {},
   "source": [
    "#### Opción habitual stacking de Modelos bajo una Regresión Logística"
   ]
  },
  {
   "cell_type": "markdown",
   "id": "3fd36daa",
   "metadata": {},
   "source": [
    "En este caso el proveedor nos proporcionaría algo similar a una variable que proviene de realizar previsiones en el modelo. En este ejemplo, se va suponer que esa variable se crea prediciendo sobre el mismo training con el que se ha entrenado la muestra, lo cual nunca va a suceder y por tanto aquí se estaría ante una posición muy optimista con respecto a lo que sucedería en la realidad, cuyos resultados deberían ser notoriamente más pobres.\n",
    "\n",
    "Así pues frente al modelo 2:\n",
    "\n",
    "    (1) Se integra una nueva variable que es el resultado de la previsión del modelo 1 sobre el training (y también sobre el test)\n",
    "    (2) Se estima un modeloStk con dicha variable extra\n",
    "    (3) Se observa qué sucede en el test (considerando que en el test se tendrá también dicha variable extra)"
   ]
  },
  {
   "cell_type": "code",
   "execution_count": 24,
   "id": "24bf2b51",
   "metadata": {},
   "outputs": [
    {
     "name": "stdout",
     "output_type": "stream",
     "text": [
      "AUC: 0.50\n"
     ]
    }
   ],
   "source": [
    "X_trainStk = X_train2\n",
    "X_testStk = X_test2\n",
    "\n",
    "X_trainStk['VarProvider'] = model1.predict_proba(X_train1)[:, 1]\n",
    "X_testStk['VarProvider'] = model1.predict_proba(X_test1)[:, 1]\n",
    "\n",
    "modelStk = LogisticRegression()\n",
    "modelStk.fit(X_trainStk, y_train)\n",
    "\n",
    "y_probStk = modelStk.predict_proba(X_testStk)[:, 1]\n",
    "\n",
    "auc = roc_auc_score(y_test, y_probStk)\n",
    "print(\"AUC: {:.2f}\".format(auc))"
   ]
  },
  {
   "cell_type": "markdown",
   "id": "4cad74b3",
   "metadata": {},
   "source": [
    "#### Opción mixtura de modelos"
   ]
  },
  {
   "cell_type": "markdown",
   "id": "b5204829",
   "metadata": {},
   "source": [
    "En este caso, el cliente tiene su propio modelo y el proveedor el suyo. No hay que re-estimar parámetros combinando ambos modelos, sólo se necesita las predicciones de ambos modelos y mezclarlas bajo un porcentaje que no tiene que ser el 50% - 50% y que puede optimizarse en la práctica.\n",
    "\n",
    "El resultado siguiente si suele ser más realista y como se ve, su construcción y puesta en producción final es más sencilla y requiere menos código.\n",
    "\n",
    "En este caso el resultado al menos no empeora. En aplicaciones en real se observa que incluso mejora (la experiencia en Kaggle así parece afirmarlo y también en la práctica)."
   ]
  },
  {
   "cell_type": "code",
   "execution_count": 25,
   "id": "be97102c",
   "metadata": {},
   "outputs": [
    {
     "name": "stdout",
     "output_type": "stream",
     "text": [
      "AUC: 0.52\n"
     ]
    }
   ],
   "source": [
    "y_probMix = 0.5 * y_prob1 + 0.5 * y_prob2\n",
    "\n",
    "auc = roc_auc_score(y_test, y_probMix)\n",
    "print(\"AUC: {:.2f}\".format(auc))"
   ]
  },
  {
   "cell_type": "code",
   "execution_count": null,
   "id": "4021735b",
   "metadata": {},
   "outputs": [],
   "source": []
  }
 ],
 "metadata": {
  "kernelspec": {
   "display_name": "Python 3",
   "language": "python",
   "name": "python3"
  },
  "language_info": {
   "codemirror_mode": {
    "name": "ipython",
    "version": 3
   },
   "file_extension": ".py",
   "mimetype": "text/x-python",
   "name": "python",
   "nbconvert_exporter": "python",
   "pygments_lexer": "ipython3",
   "version": "3.8.8"
  }
 },
 "nbformat": 4,
 "nbformat_minor": 5
}
